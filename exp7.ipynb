{
  "nbformat": 4,
  "nbformat_minor": 0,
  "metadata": {
    "colab": {
      "provenance": [],
      "authorship_tag": "ABX9TyOaXsaW5n/OSpLXX0FCAafb",
      "include_colab_link": true
    },
    "kernelspec": {
      "name": "python3",
      "display_name": "Python 3"
    },
    "language_info": {
      "name": "python"
    }
  },
  "cells": [
    {
      "cell_type": "markdown",
      "metadata": {
        "id": "view-in-github",
        "colab_type": "text"
      },
      "source": [
        "<a href=\"https://colab.research.google.com/github/andugulasandhya/Bharat_intern/blob/main/exp7.ipynb\" target=\"_parent\"><img src=\"https://colab.research.google.com/assets/colab-badge.svg\" alt=\"Open In Colab\"/></a>"
      ]
    },
    {
      "cell_type": "code",
      "execution_count": 1,
      "metadata": {
        "colab": {
          "base_uri": "https://localhost:8080/"
        },
        "id": "xt1cFOliEGhP",
        "outputId": "4d005cf7-ffce-4ec6-8320-1e81032ab04c"
      },
      "outputs": [
        {
          "output_type": "stream",
          "name": "stdout",
          "text": [
            "Frequent Itemsets:\n",
            "     support           itemsets\n",
            "0  0.076790        (0_burgers)\n",
            "1  0.052126      (0_chocolate)\n",
            "2  0.076923  (0_mineral water)\n",
            "3  0.061059         (0_turkey)\n",
            "4  0.064525  (1_mineral water)\n",
            "5  0.054793      (1_spaghetti)\n",
            "Association Rules:\n",
            " Empty DataFrame\n",
            "Columns: [antecedents, consequents, antecedent support, consequent support, support, confidence, lift, leverage, conviction, zhangs_metric]\n",
            "Index: []\n"
          ]
        },
        {
          "output_type": "stream",
          "name": "stderr",
          "text": [
            "/usr/local/lib/python3.10/dist-packages/mlxtend/frequent_patterns/fpcommon.py:110: DeprecationWarning: DataFrames with non-bool types result in worse computationalperformance and their support might be discontinued in the future.Please use a DataFrame with bool type\n",
            "  warnings.warn(\n"
          ]
        }
      ],
      "source": [
        "import pandas as pd\n",
        "from mlxtend.frequent_patterns import apriori, association_rules\n",
        "data = pd.read_csv('/content/archive (29).zip', header=None, compression='zip')\n",
        "onehot_data = pd.get_dummies(data)\n",
        "frequent_itemsets = apriori(onehot_data, min_support=0.05, use_colnames=True)\n",
        "association_rules = association_rules(frequent_itemsets, metric=\"lift\", min_threshold=1)\n",
        "print(\"Frequent Itemsets:\\n\", frequent_itemsets)\n",
        "print(\"Association Rules:\\n\", association_rules)\n",
        ""
      ]
    }
  ]
}